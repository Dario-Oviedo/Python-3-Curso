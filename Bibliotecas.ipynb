{
 "cells": [
  {
   "cell_type": "markdown",
   "metadata": {},
   "source": [
    "## NumPy"
   ]
  },
  {
   "cell_type": "code",
   "execution_count": 2,
   "metadata": {},
   "outputs": [],
   "source": [
    "import numpy as np"
   ]
  },
  {
   "cell_type": "markdown",
   "metadata": {},
   "source": [
    "### Arreglos"
   ]
  },
  {
   "cell_type": "code",
   "execution_count": 2,
   "metadata": {},
   "outputs": [
    {
     "name": "stdout",
     "output_type": "stream",
     "text": [
      "[1 2 3]\n"
     ]
    }
   ],
   "source": [
    "arr = np.array([1, 2, 3])\n",
    "print(arr)"
   ]
  },
  {
   "cell_type": "code",
   "execution_count": 3,
   "metadata": {},
   "outputs": [
    {
     "name": "stdout",
     "output_type": "stream",
     "text": [
      "[[1 2 3]\n",
      " [4 5 6]]\n"
     ]
    }
   ],
   "source": [
    "arr = np.array(([1,2,3], [4, 5, 6]))\n",
    "print(arr)"
   ]
  },
  {
   "cell_type": "code",
   "execution_count": 4,
   "metadata": {},
   "outputs": [
    {
     "name": "stdout",
     "output_type": "stream",
     "text": [
      "[[1 2 3]\n",
      " [4 5 6]\n",
      " [7 8 9]]\n"
     ]
    }
   ],
   "source": [
    "arr = np.array(([1,2,3], [4, 5, 6], [7,8,9]))\n",
    "print(arr)"
   ]
  },
  {
   "cell_type": "code",
   "execution_count": 4,
   "metadata": {},
   "outputs": [
    {
     "name": "stdout",
     "output_type": "stream",
     "text": [
      "3\n",
      "[[[1 2 3 4 5 6]]]\n",
      "[[1 2 3 4 5 6]]\n",
      "[1 2 3 4 5 6]\n",
      "1\n"
     ]
    }
   ],
   "source": [
    "arr = np.array([1,2,3,4,5,6], ndmin=3)\n",
    "print(arr.ndim)\n",
    "print(arr)\n",
    "print(arr[0])\n",
    "print(arr[0][0])\n",
    "print(arr[0][0][0])"
   ]
  },
  {
   "cell_type": "code",
   "execution_count": 6,
   "metadata": {},
   "outputs": [
    {
     "name": "stdout",
     "output_type": "stream",
     "text": [
      "[[0. 0.]\n",
      " [0. 0.]]\n"
     ]
    }
   ],
   "source": [
    "arr = np.zeros((2,2))\n",
    "print(arr)"
   ]
  },
  {
   "cell_type": "code",
   "execution_count": 7,
   "metadata": {},
   "outputs": [
    {
     "name": "stdout",
     "output_type": "stream",
     "text": [
      "[[1. 1. 1.]\n",
      " [1. 1. 1.]\n",
      " [1. 1. 1.]]\n"
     ]
    }
   ],
   "source": [
    "arr = np.ones((3,3))\n",
    "print(arr)"
   ]
  },
  {
   "cell_type": "code",
   "execution_count": 8,
   "metadata": {},
   "outputs": [
    {
     "name": "stdout",
     "output_type": "stream",
     "text": [
      "[[0.41810641 0.77444742 0.8198509 ]\n",
      " [0.09900127 0.22392393 0.1474155 ]\n",
      " [0.71139457 0.46970693 0.24119259]]\n"
     ]
    }
   ],
   "source": [
    "arr = np.random.rand(3,3)\n",
    "print(arr)"
   ]
  },
  {
   "cell_type": "markdown",
   "metadata": {},
   "source": [
    "## Operaciones"
   ]
  },
  {
   "cell_type": "code",
   "execution_count": 9,
   "metadata": {},
   "outputs": [
    {
     "name": "stdout",
     "output_type": "stream",
     "text": [
      "[5 7 9]\n"
     ]
    }
   ],
   "source": [
    "arr1 = [1,2,3]\n",
    "arr2 = [4,5,6]\n",
    "\n",
    "arr3 = np.add(arr1, arr2)\n",
    "print(arr3)"
   ]
  },
  {
   "cell_type": "code",
   "execution_count": 11,
   "metadata": {},
   "outputs": [
    {
     "name": "stdout",
     "output_type": "stream",
     "text": [
      "[3 3 3]\n"
     ]
    }
   ],
   "source": [
    "arr2 = [1,2,3]\n",
    "arr1 = [4,5,6]\n",
    "\n",
    "arr3 = np.subtract(arr1,arr2)\n",
    "print(arr3)"
   ]
  },
  {
   "cell_type": "code",
   "execution_count": 13,
   "metadata": {},
   "outputs": [
    {
     "name": "stdout",
     "output_type": "stream",
     "text": [
      "[ 4 10 18]\n"
     ]
    }
   ],
   "source": [
    "arr1 = [1,2,3]\n",
    "arr2 = [4,5,6]\n",
    "\n",
    "arr3 = np.multiply(arr1, arr2)\n",
    "print(arr3)"
   ]
  },
  {
   "cell_type": "code",
   "execution_count": 14,
   "metadata": {},
   "outputs": [
    {
     "name": "stdout",
     "output_type": "stream",
     "text": [
      "[0.25 0.4  0.5 ]\n"
     ]
    }
   ],
   "source": [
    "arr1 = [1,2,3]\n",
    "arr2 = [4,5,6]\n",
    "\n",
    "arr3 = np.divide(arr1, arr2)\n",
    "print(arr3)"
   ]
  },
  {
   "cell_type": "markdown",
   "metadata": {},
   "source": [
    "## Agregacion"
   ]
  },
  {
   "cell_type": "code",
   "execution_count": 17,
   "metadata": {},
   "outputs": [
    {
     "name": "stdout",
     "output_type": "stream",
     "text": [
      "4.333333333333333\n"
     ]
    }
   ],
   "source": [
    "arr = [1, 5, 7]\n",
    "media = np.mean(arr)\n",
    "print(media)"
   ]
  },
  {
   "cell_type": "code",
   "execution_count": 18,
   "metadata": {},
   "outputs": [
    {
     "name": "stdout",
     "output_type": "stream",
     "text": [
      "5.0\n"
     ]
    }
   ],
   "source": [
    "arr = [1, 5, 7]\n",
    "median = np.median(arr)\n",
    "print(median)"
   ]
  },
  {
   "cell_type": "code",
   "execution_count": 19,
   "metadata": {},
   "outputs": [
    {
     "name": "stdout",
     "output_type": "stream",
     "text": [
      "7\n"
     ]
    }
   ],
   "source": [
    "arr = [1, 5, 7]\n",
    "max = np.max(arr)\n",
    "print(max)"
   ]
  },
  {
   "cell_type": "code",
   "execution_count": 20,
   "metadata": {},
   "outputs": [
    {
     "name": "stdout",
     "output_type": "stream",
     "text": [
      "1\n"
     ]
    }
   ],
   "source": [
    "arr = [1, 5, 7]\n",
    "min = np.min(arr)\n",
    "print(min)"
   ]
  },
  {
   "cell_type": "markdown",
   "metadata": {},
   "source": [
    "## Indexacion"
   ]
  },
  {
   "cell_type": "code",
   "execution_count": 21,
   "metadata": {},
   "outputs": [
    {
     "name": "stdout",
     "output_type": "stream",
     "text": [
      "1\n"
     ]
    }
   ],
   "source": [
    "arr = np.array([1,2,3,4,5,6])\n",
    "print(arr[0])"
   ]
  },
  {
   "cell_type": "code",
   "execution_count": 22,
   "metadata": {},
   "outputs": [
    {
     "name": "stdout",
     "output_type": "stream",
     "text": [
      "6\n"
     ]
    }
   ],
   "source": [
    "arr = np.array([1,2,3,4,5,6])\n",
    "print(arr[-1])"
   ]
  },
  {
   "cell_type": "code",
   "execution_count": 25,
   "metadata": {},
   "outputs": [
    {
     "name": "stdout",
     "output_type": "stream",
     "text": [
      "6\n"
     ]
    }
   ],
   "source": [
    "arr = np.array(([1,2,3],[4,5,6]))\n",
    "print(arr[1,2])"
   ]
  },
  {
   "cell_type": "markdown",
   "metadata": {},
   "source": [
    "## Slicing"
   ]
  },
  {
   "cell_type": "code",
   "execution_count": 26,
   "metadata": {},
   "outputs": [
    {
     "name": "stdout",
     "output_type": "stream",
     "text": [
      "[2 3 4]\n"
     ]
    }
   ],
   "source": [
    "arr = np.array([1,2,3,4,5,6])\n",
    "print(arr[1:4])"
   ]
  },
  {
   "cell_type": "code",
   "execution_count": 28,
   "metadata": {},
   "outputs": [
    {
     "name": "stdout",
     "output_type": "stream",
     "text": [
      "[2 4]\n"
     ]
    }
   ],
   "source": [
    "arr = np.array([1,2,3,4,5,6])\n",
    "print(arr[1:4:2])"
   ]
  },
  {
   "cell_type": "code",
   "execution_count": 29,
   "metadata": {},
   "outputs": [
    {
     "name": "stdout",
     "output_type": "stream",
     "text": [
      "[1 3 5]\n"
     ]
    }
   ],
   "source": [
    "arr = np.array([1,2,3,4,5,6])\n",
    "print(arr[::2])"
   ]
  },
  {
   "cell_type": "markdown",
   "metadata": {},
   "source": [
    "## Tipo de Datos"
   ]
  },
  {
   "cell_type": "code",
   "execution_count": 1,
   "metadata": {},
   "outputs": [
    {
     "name": "stdout",
     "output_type": "stream",
     "text": [
      "<U1\n"
     ]
    }
   ],
   "source": [
    "import numpy as np\n",
    "arr = np.array([\"b\",\"a\"])\n",
    "print(arr.dtype)"
   ]
  },
  {
   "cell_type": "code",
   "execution_count": 3,
   "metadata": {},
   "outputs": [
    {
     "name": "stdout",
     "output_type": "stream",
     "text": [
      "float64\n"
     ]
    }
   ],
   "source": [
    "arr = np.array([1.3, 2.5])\n",
    "print(arr.dtype)"
   ]
  },
  {
   "cell_type": "markdown",
   "metadata": {},
   "source": [
    "## Copy vs View"
   ]
  },
  {
   "cell_type": "code",
   "execution_count": null,
   "metadata": {},
   "outputs": [],
   "source": []
  },
  {
   "cell_type": "markdown",
   "metadata": {},
   "source": [
    "## Pamdas"
   ]
  },
  {
   "cell_type": "markdown",
   "metadata": {},
   "source": [
    "## CSV"
   ]
  },
  {
   "cell_type": "code",
   "execution_count": 5,
   "metadata": {},
   "outputs": [
    {
     "name": "stdout",
     "output_type": "stream",
     "text": [
      "                     Marca temporal                        1.- ¿De dónde eres? 2.- ¿Cuántos años tienes? 3.- ¿Estudias? 4.- ¿Trabajas? 5.- ¿Cuál es tu nivel de conocimiento en Python?                                           6.- ¿Qué tema relacionado con Python te gustaría aprender? 7.- ¿Has participado en algún curso anteriormente en el IA Center?                             8.- ¿Cuál es tu canción favorita?\n",
      "0    2023/06/27 7:42:12 p. m. GMT-6                                 Cd. Juárez             Entre 21 y 24             Sí             No                                           Básico                                                                               Manejar bases de datos                                                                 No                                                      The Wolf\n",
      "1    2023/06/27 7:42:28 p. m. GMT-6                       chihuahua, chihuahua             Entre 21 y 24             Sí             Sí                                           Básico                                                                                      machine lerning                                                                 Sí                                               eternity, anyma\n",
      "2    2023/06/27 7:42:44 p. m. GMT-6                        Chihuahua Chihuahua             Entre 18 y 20             Sí             Sí                                           Básico                                                        Automatización y creación de apps/páginas web                                                                 No                                Cornerstone- Arctic Monkeys :)\n",
      "3    2023/06/27 7:42:52 p. m. GMT-6                        Chihuahua Chihuahua             Entre 21 y 24             Sí             Sí                                           Básico                                                                                    Análisis de datos                                                                 Sí                                               Sea Gets Hotter\n",
      "4    2023/06/27 7:42:56 p. m. GMT-6                           Chihuahua, Chih.                 Más de 30             No             Sí                                           Básico                                                                                Conocer más librerias                                                                 Sí                                    Love Me More, de Sam Smith\n",
      "5    2023/06/27 7:42:57 p. m. GMT-6                                     Puebla             Entre 21 y 24             Sí             Sí                                           Básico                                                                                  APIS y data science                                                                 No                                      Fireflight - Unbreakable\n",
      "6    2023/06/27 7:42:57 p. m. GMT-6                            Cd. Juarez Chih                 Más de 30             No             Sí                                       Intermedio                                                                                    Analisis de Datos                                                                 Sí                                          Instrumental General\n",
      "7    2023/06/27 7:43:04 p. m. GMT-6                              Ciudad Juarez             Entre 21 y 24             Sí             Sí                                           Básico                                                                                     Ciencia de datos                                                                 Sí                                     La bruja de Marco Flores \n",
      "8    2023/06/27 7:43:10 p. m. GMT-6                             Aguascalientes             Entre 18 y 20             Sí             No                                           Básico  Me gustaria aprender un poco de todo, pero mas que nada me gustaria practicar mas los conocimientos                                                                 No                                           Canela-Nanpa Basico\n",
      "9    2023/06/27 7:43:12 p. m. GMT-6                           Cd Juarez, Chih.             Entre 21 y 24             Sí             No                                           Básico                                       No tengo un tema en especifico, solo deseo repasar y aprender                                                                  Sí          Depende del momento hy del día, ahora es Hielo - Zoé\n",
      "10   2023/06/27 7:43:12 p. m. GMT-6                                     Juárez             Entre 21 y 24             Sí             Sí                                           Básico                                                                                    Análisis de datos                                                                 No                                                    No tengo:(\n",
      "11   2023/06/27 7:43:16 p. m. GMT-6                                 El Paso TX             Entre 18 y 20             Sí             No                                           Básico                                                                                                  POO                                                                 No                                 The Words I Never Said / Mage\n",
      "12   2023/06/27 7:43:16 p. m. GMT-6                       Cuauhtemoc Chihuahua                 Más de 30             No             Sí                                       Intermedio                                                                              Web y análisis de datos                                                                 No                                              Dust in the wind\n",
      "13   2023/06/27 7:43:29 p. m. GMT-6                                Cd. Juárez              Entre 21 y 24             Sí             Sí                                           Básico                         Flujos de trabajo, análisis de datos, análisis estadístico y automatización                                                                  Sí                                       Manto estelar - Moenia \n",
      "14   2023/06/27 7:43:34 p. m. GMT-6                                    Hidalgo             Entre 25 y 29             Sí             Sí                                           Básico                                                                                        Deep learning                                                                 No                                                         Todas\n",
      "15   2023/06/27 7:43:50 p. m. GMT-6                          Cd. Juarez, Chih.             Entre 21 y 24             Sí             Sí                                           Básico                                                               Programación orientada a objetos (POO)                                                                 Sí                        Skillet-Comatose y Whisper in the Dark\n",
      "16   2023/06/27 7:44:01 p. m. GMT-6                       Cd. Juarez Chihuahua                 Más de 30             No             Sí                                           Básico                                        un poco de todo para irme familiarizandome a la prograamacion                                                                 Sí                             el hada y el mago de reta blancha\n",
      "17   2023/06/27 7:44:01 p. m. GMT-6             Ciudad Juarez Chihuahua Mexico             Entre 21 y 24             No             No                                           Básico                                                                                            API y IA                                                                  Sí   https://youtu.be/dQw4w9WgXcQ y https://youtu.be/yJDBmP9Mexk\n",
      "18   2023/06/27 7:44:12 p. m. GMT-6                              Ciudad Juarez                 Más de 30             Sí             No                                           Básico                                                       Web Scrapping y limpieza de conjuntos de datos                                                                 Sí                                              Hotel California\n",
      "19   2023/06/27 7:44:14 p. m. GMT-6                           Chihuahua, Chih.                 Más de 30             No             Sí                                           Básico                                                                                    análisis de datos                                                                 Sí   no tengo canción favorita, prácticamente no escucho música \n",
      "20   2023/06/27 7:44:17 p. m. GMT-6                              Ciudad Juarez             Entre 18 y 20             Sí             No                                           Básico                                                       Analisis de datos y su uso para desarrollo web                                                                 No                                     Burn My Dread - Persona 3\n",
      "21   2023/06/27 7:44:20 p. m. GMT-6               Cd Juárez Chihuahua, México.                 Más de 30             No             Sí                                           Básico                                                        Ciencia de Datos, y API`s y Todo lo de Python                                                                 Sí                                                          ....\n",
      "22   2023/06/27 7:44:25 p. m. GMT-6                              Ciudad Juárez                 Más de 30             No             Sí                                           Básico                                                       recolección, limpieza y visualización de datos                                                                 Sí                                                   Todo cuenta\n",
      "23   2023/06/27 7:44:30 p. m. GMT-6                                 Cd. Juárez             Entre 25 y 29             Sí             No                                           Básico                                                                                     Ciencia de datos                                                                 Sí                                             Chosen - Maneskin\n",
      "24   2023/06/27 7:44:31 p. m. GMT-6                                     Juarez             Entre 25 y 29             Sí             Sí                                           Básico         Como hacer una interfaz para poder hacer un programa funcional para terceros. Python con SQL                                                                 Sí                                             God's Plan- Drake\n",
      "25   2023/06/27 7:45:04 p. m. GMT-6                     Cd. Juárez, Chihuahua              Entre 18 y 20             Sí             No                        Nunca he utilizado Python                                                                      Programación para uso academico                                                                 No                    A man without love - Engelbert Humperdinck\n",
      "26   2023/06/27 7:45:37 p. m. GMT-6                            Aguascalientes              Entre 21 y 24             Sí             No                                       Intermedio                                                                  un poco de inteligencia artificial                                                                  No                                              Love of my life \n",
      "27   2023/06/27 7:45:45 p. m. GMT-6                                 Cd. Juarez             Entre 15 y 17             Sí             No                                           Básico                                                                                               Bucles                                                                 Sí                               Jorge Drexler - El Plan Maestro\n",
      "28   2023/06/27 7:46:10 p. m. GMT-6  San Francisco de los Romo, Aguascalientes             Entre 18 y 20             Sí             No                                           Básico                                           Librerias con aplicaciones en el mundo de las matemáticas.                                                                 No                                     Inolvidable - Luis Miguel\n",
      "29   2023/06/27 7:46:14 p. m. GMT-6                                  Chihuahua             Entre 18 y 20             Sí             Sí                                           Básico                                                                                           desarrollo                                                                 No                                                     Last Call\n",
      "30   2023/06/27 7:46:28 p. m. GMT-6                              Ciudad Juárez             Entre 21 y 24             Sí             No                                           Básico                                                                               Procesamiento de datos                                                                 Sí                              Lacrimosa- Matt Kent, Amber Dawn\n",
      "31   2023/06/27 7:46:32 p. m. GMT-6                                 Zacatecas              Entre 25 y 29             Sí             Sí                                           Básico                                                                                                 Apis                                                                 Sí                                          All the small things\n",
      "32   2023/06/27 7:46:37 p. m. GMT-6                              Ciudad Juarez             Entre 21 y 24             Sí             Sí                                           Básico                                                                                      MachineLearning                                                                 No                           Like I Love You - Justin Timberlake\n",
      "33   2023/06/27 7:49:23 p. m. GMT-6                              Ciudad Juárez             Entre 18 y 20             Sí             No                                           Básico                                                                    Ciencia de Datos y automatización                                                                 Sí                  Cold Heart - PNAU REMIX Elton Jhon, Dua Lipa\n",
      "34   2023/06/27 7:51:23 p. m. GMT-6                              Ciudad Juarez             Entre 25 y 29             Sí             Sí                                       Intermedio                                                                        ciencia de datos, webscraping                                                                 Sí                                 Gorillaz - On Melancholy Hill\n",
      "35   2023/06/27 7:55:00 p. m. GMT-6                Veracruz, estudio en Puebla             Entre 25 y 29             Sí             No                                           Básico                                                                Lo relacionado con análisis de datos.                                                                 Sí        En este momento Los Años Maravillosos de Little Jesus \n",
      "36   2023/06/27 8:05:42 p. m. GMT-6                                       CDMX             Entre 25 y 29             No             Sí                                           Básico                                                                                         web scraping                                                                 No                                                   Young Turks\n",
      "37   2023/06/27 8:22:29 p. m. GMT-6                           Estado de Mexico             Entre 21 y 24             Sí             Sí                                           Básico                                                                  librerias, bloques paquetes etc....                                                                 No                                       the weeknd- Out of time\n",
      "38  2023/06/27 10:02:11 p. m. GMT-6                        Ciudad Juarez, Chih             Entre 21 y 24             No             Sí                                           Básico                                                                                    Analisis de datos                                                                 Sí                                  https://youtu.be/BGVUiMskx_U\n",
      "39  2023/06/27 10:31:28 p. m. GMT-6                                  cd juarez             Entre 21 y 24             Sí             Sí                                           Básico                                                                                             punteros                                                                 Sí                                        porter guiame quetzal \n",
      "40  2023/06/28 10:12:04 p. m. GMT-6                                  Chihuahua             Entre 21 y 24             No             Sí                                           Básico                                                                     Machine Learning y Deep Learning                                                                 Sí                                                       Runaway\n",
      "41   2023/06/29 2:00:51 a. m. GMT-6          Vivo en Ciudad Juárez. Soy cubana                 Más de 30             Sí             No                                       Intermedio       Cómo escribir un código de forma profesional, utilizando las herramientas necesarias y óptimas                                                                 No  Hay varias, pero últimamente escucho mucho \"Cuba Isla Bella\"\n",
      "42   2023/07/03 1:55:24 p. m. GMT-6                              Ciudad Juarez                 Más de 30             No             Sí                                       Intermedio                                                                                       Automatizacion                                                                 No                                         David Bowie - Heroes \n"
     ]
    }
   ],
   "source": [
    "import pandas as pd\n",
    "df = pd.read_csv('C:\\\\Users\\\\hj5k5r\\\\Python 3 Curso\\\\Perfil de estudiante.csv')\n",
    "print(df.to_string())"
   ]
  },
  {
   "cell_type": "code",
   "execution_count": 6,
   "metadata": {},
   "outputs": [
    {
     "data": {
      "text/html": [
       "<div>\n",
       "<style scoped>\n",
       "    .dataframe tbody tr th:only-of-type {\n",
       "        vertical-align: middle;\n",
       "    }\n",
       "\n",
       "    .dataframe tbody tr th {\n",
       "        vertical-align: top;\n",
       "    }\n",
       "\n",
       "    .dataframe thead th {\n",
       "        text-align: right;\n",
       "    }\n",
       "</style>\n",
       "<table border=\"1\" class=\"dataframe\">\n",
       "  <thead>\n",
       "    <tr style=\"text-align: right;\">\n",
       "      <th></th>\n",
       "      <th>Marca temporal</th>\n",
       "      <th>1.- ¿De dónde eres?</th>\n",
       "      <th>2.- ¿Cuántos años tienes?</th>\n",
       "      <th>3.- ¿Estudias?</th>\n",
       "      <th>4.- ¿Trabajas?</th>\n",
       "      <th>5.- ¿Cuál es tu nivel de conocimiento en Python?</th>\n",
       "      <th>6.- ¿Qué tema relacionado con Python te gustaría aprender?</th>\n",
       "      <th>7.- ¿Has participado en algún curso anteriormente en el IA Center?</th>\n",
       "      <th>8.- ¿Cuál es tu canción favorita?</th>\n",
       "    </tr>\n",
       "  </thead>\n",
       "  <tbody>\n",
       "    <tr>\n",
       "      <th>0</th>\n",
       "      <td>2023/06/27 7:42:12 p. m. GMT-6</td>\n",
       "      <td>Cd. Juárez</td>\n",
       "      <td>Entre 21 y 24</td>\n",
       "      <td>Sí</td>\n",
       "      <td>No</td>\n",
       "      <td>Básico</td>\n",
       "      <td>Manejar bases de datos</td>\n",
       "      <td>No</td>\n",
       "      <td>The Wolf</td>\n",
       "    </tr>\n",
       "    <tr>\n",
       "      <th>1</th>\n",
       "      <td>2023/06/27 7:42:28 p. m. GMT-6</td>\n",
       "      <td>chihuahua, chihuahua</td>\n",
       "      <td>Entre 21 y 24</td>\n",
       "      <td>Sí</td>\n",
       "      <td>Sí</td>\n",
       "      <td>Básico</td>\n",
       "      <td>machine lerning</td>\n",
       "      <td>Sí</td>\n",
       "      <td>eternity, anyma</td>\n",
       "    </tr>\n",
       "    <tr>\n",
       "      <th>2</th>\n",
       "      <td>2023/06/27 7:42:44 p. m. GMT-6</td>\n",
       "      <td>Chihuahua Chihuahua</td>\n",
       "      <td>Entre 18 y 20</td>\n",
       "      <td>Sí</td>\n",
       "      <td>Sí</td>\n",
       "      <td>Básico</td>\n",
       "      <td>Automatización y creación de apps/páginas web</td>\n",
       "      <td>No</td>\n",
       "      <td>Cornerstone- Arctic Monkeys :)</td>\n",
       "    </tr>\n",
       "    <tr>\n",
       "      <th>3</th>\n",
       "      <td>2023/06/27 7:42:52 p. m. GMT-6</td>\n",
       "      <td>Chihuahua Chihuahua</td>\n",
       "      <td>Entre 21 y 24</td>\n",
       "      <td>Sí</td>\n",
       "      <td>Sí</td>\n",
       "      <td>Básico</td>\n",
       "      <td>Análisis de datos</td>\n",
       "      <td>Sí</td>\n",
       "      <td>Sea Gets Hotter</td>\n",
       "    </tr>\n",
       "    <tr>\n",
       "      <th>4</th>\n",
       "      <td>2023/06/27 7:42:56 p. m. GMT-6</td>\n",
       "      <td>Chihuahua, Chih.</td>\n",
       "      <td>Más de 30</td>\n",
       "      <td>No</td>\n",
       "      <td>Sí</td>\n",
       "      <td>Básico</td>\n",
       "      <td>Conocer más librerias</td>\n",
       "      <td>Sí</td>\n",
       "      <td>Love Me More, de Sam Smith</td>\n",
       "    </tr>\n",
       "  </tbody>\n",
       "</table>\n",
       "</div>"
      ],
      "text/plain": [
       "                   Marca temporal   1.- ¿De dónde eres?  \\\n",
       "0  2023/06/27 7:42:12 p. m. GMT-6            Cd. Juárez   \n",
       "1  2023/06/27 7:42:28 p. m. GMT-6  chihuahua, chihuahua   \n",
       "2  2023/06/27 7:42:44 p. m. GMT-6   Chihuahua Chihuahua   \n",
       "3  2023/06/27 7:42:52 p. m. GMT-6   Chihuahua Chihuahua   \n",
       "4  2023/06/27 7:42:56 p. m. GMT-6      Chihuahua, Chih.   \n",
       "\n",
       "  2.- ¿Cuántos años tienes? 3.- ¿Estudias? 4.- ¿Trabajas?  \\\n",
       "0             Entre 21 y 24             Sí             No   \n",
       "1             Entre 21 y 24             Sí             Sí   \n",
       "2             Entre 18 y 20             Sí             Sí   \n",
       "3             Entre 21 y 24             Sí             Sí   \n",
       "4                 Más de 30             No             Sí   \n",
       "\n",
       "  5.- ¿Cuál es tu nivel de conocimiento en Python?  \\\n",
       "0                                           Básico   \n",
       "1                                           Básico   \n",
       "2                                           Básico   \n",
       "3                                           Básico   \n",
       "4                                           Básico   \n",
       "\n",
       "  6.- ¿Qué tema relacionado con Python te gustaría aprender?  \\\n",
       "0                             Manejar bases de datos           \n",
       "1                                    machine lerning           \n",
       "2      Automatización y creación de apps/páginas web           \n",
       "3                                  Análisis de datos           \n",
       "4                              Conocer más librerias           \n",
       "\n",
       "  7.- ¿Has participado en algún curso anteriormente en el IA Center?  \\\n",
       "0                                                 No                   \n",
       "1                                                 Sí                   \n",
       "2                                                 No                   \n",
       "3                                                 Sí                   \n",
       "4                                                 Sí                   \n",
       "\n",
       "  8.- ¿Cuál es tu canción favorita?  \n",
       "0                          The Wolf  \n",
       "1                   eternity, anyma  \n",
       "2    Cornerstone- Arctic Monkeys :)  \n",
       "3                   Sea Gets Hotter  \n",
       "4        Love Me More, de Sam Smith  "
      ]
     },
     "execution_count": 6,
     "metadata": {},
     "output_type": "execute_result"
    }
   ],
   "source": [
    "df.head()"
   ]
  },
  {
   "cell_type": "code",
   "execution_count": 7,
   "metadata": {},
   "outputs": [
    {
     "data": {
      "text/html": [
       "<div>\n",
       "<style scoped>\n",
       "    .dataframe tbody tr th:only-of-type {\n",
       "        vertical-align: middle;\n",
       "    }\n",
       "\n",
       "    .dataframe tbody tr th {\n",
       "        vertical-align: top;\n",
       "    }\n",
       "\n",
       "    .dataframe thead th {\n",
       "        text-align: right;\n",
       "    }\n",
       "</style>\n",
       "<table border=\"1\" class=\"dataframe\">\n",
       "  <thead>\n",
       "    <tr style=\"text-align: right;\">\n",
       "      <th></th>\n",
       "      <th>Marca temporal</th>\n",
       "      <th>1.- ¿De dónde eres?</th>\n",
       "      <th>2.- ¿Cuántos años tienes?</th>\n",
       "      <th>3.- ¿Estudias?</th>\n",
       "      <th>4.- ¿Trabajas?</th>\n",
       "      <th>5.- ¿Cuál es tu nivel de conocimiento en Python?</th>\n",
       "      <th>6.- ¿Qué tema relacionado con Python te gustaría aprender?</th>\n",
       "      <th>7.- ¿Has participado en algún curso anteriormente en el IA Center?</th>\n",
       "      <th>8.- ¿Cuál es tu canción favorita?</th>\n",
       "    </tr>\n",
       "  </thead>\n",
       "  <tbody>\n",
       "    <tr>\n",
       "      <th>38</th>\n",
       "      <td>2023/06/27 10:02:11 p. m. GMT-6</td>\n",
       "      <td>Ciudad Juarez, Chih</td>\n",
       "      <td>Entre 21 y 24</td>\n",
       "      <td>No</td>\n",
       "      <td>Sí</td>\n",
       "      <td>Básico</td>\n",
       "      <td>Analisis de datos</td>\n",
       "      <td>Sí</td>\n",
       "      <td>https://youtu.be/BGVUiMskx_U</td>\n",
       "    </tr>\n",
       "    <tr>\n",
       "      <th>39</th>\n",
       "      <td>2023/06/27 10:31:28 p. m. GMT-6</td>\n",
       "      <td>cd juarez</td>\n",
       "      <td>Entre 21 y 24</td>\n",
       "      <td>Sí</td>\n",
       "      <td>Sí</td>\n",
       "      <td>Básico</td>\n",
       "      <td>punteros</td>\n",
       "      <td>Sí</td>\n",
       "      <td>porter guiame quetzal</td>\n",
       "    </tr>\n",
       "    <tr>\n",
       "      <th>40</th>\n",
       "      <td>2023/06/28 10:12:04 p. m. GMT-6</td>\n",
       "      <td>Chihuahua</td>\n",
       "      <td>Entre 21 y 24</td>\n",
       "      <td>No</td>\n",
       "      <td>Sí</td>\n",
       "      <td>Básico</td>\n",
       "      <td>Machine Learning y Deep Learning</td>\n",
       "      <td>Sí</td>\n",
       "      <td>Runaway</td>\n",
       "    </tr>\n",
       "    <tr>\n",
       "      <th>41</th>\n",
       "      <td>2023/06/29 2:00:51 a. m. GMT-6</td>\n",
       "      <td>Vivo en Ciudad Juárez. Soy cubana</td>\n",
       "      <td>Más de 30</td>\n",
       "      <td>Sí</td>\n",
       "      <td>No</td>\n",
       "      <td>Intermedio</td>\n",
       "      <td>Cómo escribir un código de forma profesional, ...</td>\n",
       "      <td>No</td>\n",
       "      <td>Hay varias, pero últimamente escucho mucho \"Cu...</td>\n",
       "    </tr>\n",
       "    <tr>\n",
       "      <th>42</th>\n",
       "      <td>2023/07/03 1:55:24 p. m. GMT-6</td>\n",
       "      <td>Ciudad Juarez</td>\n",
       "      <td>Más de 30</td>\n",
       "      <td>No</td>\n",
       "      <td>Sí</td>\n",
       "      <td>Intermedio</td>\n",
       "      <td>Automatizacion</td>\n",
       "      <td>No</td>\n",
       "      <td>David Bowie - Heroes</td>\n",
       "    </tr>\n",
       "  </tbody>\n",
       "</table>\n",
       "</div>"
      ],
      "text/plain": [
       "                     Marca temporal                1.- ¿De dónde eres?  \\\n",
       "38  2023/06/27 10:02:11 p. m. GMT-6                Ciudad Juarez, Chih   \n",
       "39  2023/06/27 10:31:28 p. m. GMT-6                          cd juarez   \n",
       "40  2023/06/28 10:12:04 p. m. GMT-6                          Chihuahua   \n",
       "41   2023/06/29 2:00:51 a. m. GMT-6  Vivo en Ciudad Juárez. Soy cubana   \n",
       "42   2023/07/03 1:55:24 p. m. GMT-6                      Ciudad Juarez   \n",
       "\n",
       "   2.- ¿Cuántos años tienes? 3.- ¿Estudias? 4.- ¿Trabajas?  \\\n",
       "38             Entre 21 y 24             No             Sí   \n",
       "39             Entre 21 y 24             Sí             Sí   \n",
       "40             Entre 21 y 24             No             Sí   \n",
       "41                 Más de 30             Sí             No   \n",
       "42                 Más de 30             No             Sí   \n",
       "\n",
       "   5.- ¿Cuál es tu nivel de conocimiento en Python?  \\\n",
       "38                                           Básico   \n",
       "39                                           Básico   \n",
       "40                                           Básico   \n",
       "41                                       Intermedio   \n",
       "42                                       Intermedio   \n",
       "\n",
       "   6.- ¿Qué tema relacionado con Python te gustaría aprender?  \\\n",
       "38                                  Analisis de datos           \n",
       "39                                           punteros           \n",
       "40                   Machine Learning y Deep Learning           \n",
       "41  Cómo escribir un código de forma profesional, ...           \n",
       "42                                     Automatizacion           \n",
       "\n",
       "   7.- ¿Has participado en algún curso anteriormente en el IA Center?  \\\n",
       "38                                                 Sí                   \n",
       "39                                                 Sí                   \n",
       "40                                                 Sí                   \n",
       "41                                                 No                   \n",
       "42                                                 No                   \n",
       "\n",
       "                    8.- ¿Cuál es tu canción favorita?  \n",
       "38                       https://youtu.be/BGVUiMskx_U  \n",
       "39                             porter guiame quetzal   \n",
       "40                                            Runaway  \n",
       "41  Hay varias, pero últimamente escucho mucho \"Cu...  \n",
       "42                              David Bowie - Heroes   "
      ]
     },
     "execution_count": 7,
     "metadata": {},
     "output_type": "execute_result"
    }
   ],
   "source": [
    "df.tail()"
   ]
  },
  {
   "cell_type": "code",
   "execution_count": 8,
   "metadata": {},
   "outputs": [
    {
     "name": "stdout",
     "output_type": "stream",
     "text": [
      "<class 'pandas.core.frame.DataFrame'>\n",
      "RangeIndex: 43 entries, 0 to 42\n",
      "Data columns (total 9 columns):\n",
      " #   Column                                                              Non-Null Count  Dtype \n",
      "---  ------                                                              --------------  ----- \n",
      " 0   Marca temporal                                                      43 non-null     object\n",
      " 1   1.- ¿De dónde eres?                                                 43 non-null     object\n",
      " 2   2.- ¿Cuántos años tienes?                                           43 non-null     object\n",
      " 3   3.- ¿Estudias?                                                      43 non-null     object\n",
      " 4   4.- ¿Trabajas?                                                      43 non-null     object\n",
      " 5   5.- ¿Cuál es tu nivel de conocimiento en Python?                    43 non-null     object\n",
      " 6   6.- ¿Qué tema relacionado con Python te gustaría aprender?          43 non-null     object\n",
      " 7   7.- ¿Has participado en algún curso anteriormente en el IA Center?  43 non-null     object\n",
      " 8   8.- ¿Cuál es tu canción favorita?                                   43 non-null     object\n",
      "dtypes: object(9)\n",
      "memory usage: 3.1+ KB\n"
     ]
    }
   ],
   "source": [
    "df.info()"
   ]
  },
  {
   "cell_type": "markdown",
   "metadata": {},
   "source": []
  },
  {
   "cell_type": "markdown",
   "metadata": {},
   "source": [
    "## JSON"
   ]
  },
  {
   "cell_type": "code",
   "execution_count": 10,
   "metadata": {},
   "outputs": [
    {
     "name": "stdout",
     "output_type": "stream",
     "text": [
      "                                                 personas\n",
      "0      {'nombre': 'Juan', 'edad': 25, 'ciudad': 'Madrid'}\n",
      "1  {'nombre': 'María', 'edad': 30, 'ciudad': 'Barcelona'}\n",
      "2   {'nombre': 'Pedro', 'edad': 35, 'ciudad': 'Valencia'}\n"
     ]
    }
   ],
   "source": [
    "df = pd.read_json('C:\\\\Users\\\\hj5k5r\\\\Python 3 Curso\\\\dataset.json')\n",
    "print(df.to_string())"
   ]
  },
  {
   "cell_type": "code",
   "execution_count": 17,
   "metadata": {},
   "outputs": [],
   "source": [
    "data = {\n",
    "\n",
    "    'Nombre': ['Juan', 'María', 'Pedro', 'Ana', 'Luis'],\n",
    "    'Edad': [25, 32, None, 42, 28],\n",
    "    'Fecha': ['31/01/2020', '31/01/2020', None, '31/01/2020', '01/31/2020'],\n",
    "    'Género': ['M', 'F', None, 'F', 'M'],\n",
    "    'Ciudad': ['Madrid', None, 'Madrid', 'Valencia', 'Barcelona'],\n",
    "    'Altura': [175, 163, 180, 158, 170],\n",
    "    'Peso': [70, None, 80, 60, 75],\n",
    "    'Ingresos': [50000, 60000, 40000, None, 55000]\n",
    "}"
   ]
  },
  {
   "cell_type": "code",
   "execution_count": 25,
   "metadata": {},
   "outputs": [
    {
     "name": "stdout",
     "output_type": "stream",
     "text": [
      "  Nombre  Edad       Fecha Género     Ciudad  Altura  Peso  Ingresos\n",
      "0   Juan  25.0  31/01/2020      M     Madrid     175  70.0   50000.0\n",
      "1  María  32.0  31/01/2020      F       None     163   NaN   60000.0\n",
      "2  Pedro   NaN        None   None     Madrid     180  80.0   40000.0\n",
      "3    Ana  42.0  31/01/2020      F   Valencia     158  60.0       NaN\n",
      "4   Luis  28.0  01/31/2020      M  Barcelona     170  75.0   55000.0\n"
     ]
    }
   ],
   "source": [
    "df = pd.DataFrame(data)\n",
    "print(df)"
   ]
  },
  {
   "cell_type": "code",
   "execution_count": 15,
   "metadata": {},
   "outputs": [
    {
     "name": "stdout",
     "output_type": "stream",
     "text": [
      "  Nombre  Edad       Fecha Género     Ciudad  Altura  Peso  Ingresos\n",
      "0   Juan  25.0  31/01/2020      M     Madrid     175  70.0   50000.0\n",
      "4   Luis  28.0  01/31/2020      M  Barcelona     170  75.0   55000.0\n"
     ]
    }
   ],
   "source": [
    "df_sin_vacios = df.dropna()\n",
    "print(df_sin_vacios.to_string())"
   ]
  },
  {
   "cell_type": "code",
   "execution_count": 16,
   "metadata": {},
   "outputs": [
    {
     "name": "stdout",
     "output_type": "stream",
     "text": [
      "  Nombre  Edad       Fecha Género     Ciudad  Altura  Peso  Ingresos\n",
      "0   Juan  25.0  31/01/2020      M     Madrid     175  70.0   50000.0\n",
      "4   Luis  28.0  01/31/2020      M  Barcelona     170  75.0   55000.0\n"
     ]
    }
   ],
   "source": [
    "df.dropna(inplace=True)\n",
    "print(df.to_string())"
   ]
  },
  {
   "cell_type": "code",
   "execution_count": 19,
   "metadata": {},
   "outputs": [
    {
     "name": "stdout",
     "output_type": "stream",
     "text": [
      "  Nombre          Edad         Fecha        Género        Ciudad  Altura  \\\n",
      "0   Juan          25.0    31/01/2020             M        Madrid     175   \n",
      "1  María          32.0    31/01/2020             F  Sin registro     163   \n",
      "2  Pedro  Sin registro  Sin registro  Sin registro        Madrid     180   \n",
      "3    Ana          42.0    31/01/2020             F      Valencia     158   \n",
      "4   Luis          28.0    01/31/2020             M     Barcelona     170   \n",
      "\n",
      "           Peso      Ingresos  \n",
      "0          70.0       50000.0  \n",
      "1  Sin registro       60000.0  \n",
      "2          80.0       40000.0  \n",
      "3          60.0  Sin registro  \n",
      "4          75.0       55000.0  \n"
     ]
    }
   ],
   "source": [
    "df.fillna(\"Sin registro\", inplace=True)\n",
    "print(df)"
   ]
  },
  {
   "cell_type": "code",
   "execution_count": 21,
   "metadata": {},
   "outputs": [
    {
     "name": "stdout",
     "output_type": "stream",
     "text": [
      "  Nombre  Edad       Fecha Género     Ciudad  Altura  Peso  Ingresos\n",
      "0   Juan  25.0  31/01/2020      M     Madrid     175  70.0   50000.0\n",
      "1  María  32.0  31/01/2020      F       None     163   NaN   60000.0\n",
      "2  Pedro   NaN        None   None     Madrid     180  80.0   40000.0\n",
      "3    Ana  42.0  31/01/2020      F   Valencia     158  60.0       0.0\n",
      "4   Luis  28.0  01/31/2020      M  Barcelona     170  75.0   55000.0\n"
     ]
    }
   ],
   "source": [
    "df[\"Ingresos\"].fillna(0, inplace=True)\n",
    "print(df)"
   ]
  },
  {
   "cell_type": "code",
   "execution_count": 22,
   "metadata": {},
   "outputs": [
    {
     "name": "stdout",
     "output_type": "stream",
     "text": [
      "41000.0\n"
     ]
    }
   ],
   "source": [
    "media = df[\"Ingresos\"].mean()\n",
    "print(media)"
   ]
  },
  {
   "cell_type": "code",
   "execution_count": 24,
   "metadata": {},
   "outputs": [
    {
     "name": "stdout",
     "output_type": "stream",
     "text": [
      "  Nombre  Edad       Fecha Género     Ciudad  Altura  Peso  Ingresos\n",
      "0   Juan  25.0  31/01/2020      M     Madrid     175  70.0   50000.0\n",
      "1  María  32.0  31/01/2020      F       None     163   NaN   60000.0\n",
      "2  Pedro   NaN        None   None     Madrid     180  80.0   40000.0\n",
      "3    Ana  42.0  31/01/2020      F   Valencia     158  60.0   41000.0\n",
      "4   Luis  28.0  01/31/2020      M  Barcelona     170  75.0   55000.0\n"
     ]
    }
   ],
   "source": [
    "df[\"Ingresos\"].fillna(media,inplace=True)\n",
    "print(df)"
   ]
  },
  {
   "cell_type": "code",
   "execution_count": 26,
   "metadata": {},
   "outputs": [
    {
     "name": "stdout",
     "output_type": "stream",
     "text": [
      "  Nombre  Edad       Fecha Género     Ciudad  Altura  Peso  Ingresos\n",
      "0   Juan  25.0  31/01/2020      M     Madrid     175  70.0   50000.0\n",
      "1  María  32.0  31/01/2020      F       None     163   NaN   60000.0\n",
      "2  Pedro   NaN        None   None     Madrid     180  80.0   40000.0\n",
      "3    Ana  42.0  31/01/2020      F   Valencia     158  60.0       NaN\n",
      "4   Luis  28.0  01/31/2020      M  Barcelona     170  75.0   55000.0\n"
     ]
    }
   ],
   "source": [
    "print(df)"
   ]
  },
  {
   "cell_type": "code",
   "execution_count": 29,
   "metadata": {},
   "outputs": [],
   "source": [
    "mode_fecha = df[\"Fecha\"].mode()\n",
    "media_edad = df[\"Edad\"].mean()\n",
    "mode_ciudad = df[\"Ciudad\"].mode()\n",
    "media_peso = df[\"Peso\"].mean()\n",
    "media_ingresos = df[\"Ingresos\"].mean()"
   ]
  },
  {
   "cell_type": "code",
   "execution_count": 30,
   "metadata": {},
   "outputs": [
    {
     "name": "stdout",
     "output_type": "stream",
     "text": [
      "  Nombre  Edad       Fecha Género     Ciudad  Altura  Peso  Ingresos\n",
      "0   Juan  25.0  31/01/2020      M     Madrid     175  70.0   50000.0\n",
      "1  María  32.0  31/01/2020      F       None     163  70.0   60000.0\n",
      "2  Pedro   NaN        None   None     Madrid     180  80.0   40000.0\n",
      "3    Ana  42.0  31/01/2020      F   Valencia     158  60.0       NaN\n",
      "4   Luis  28.0  01/31/2020      M  Barcelona     170  75.0   55000.0\n"
     ]
    }
   ],
   "source": [
    "df.loc[1, \"Peso\"] = 70\n",
    "print(df)"
   ]
  },
  {
   "cell_type": "code",
   "execution_count": null,
   "metadata": {},
   "outputs": [],
   "source": []
  }
 ],
 "metadata": {
  "kernelspec": {
   "display_name": "Python 3",
   "language": "python",
   "name": "python3"
  },
  "language_info": {
   "codemirror_mode": {
    "name": "ipython",
    "version": 3
   },
   "file_extension": ".py",
   "mimetype": "text/x-python",
   "name": "python",
   "nbconvert_exporter": "python",
   "pygments_lexer": "ipython3",
   "version": "3.9.10"
  },
  "orig_nbformat": 4
 },
 "nbformat": 4,
 "nbformat_minor": 2
}
